{
 "cells": [
  {
   "cell_type": "markdown",
   "metadata": {
    "collapsed": false
   },
   "source": [
    "<h3>Q no 1:  Write a python program to find number of occurrences of given number in a list with out using built-in methods</h3>\n",
    "<h4>**1 generate a list of some random num which is repeated again and again</h4>\n",
    "<h4>**2 take user input any number</h4>\n",
    "<h4>**3 find the number of occurrences of that num in your list</h4>\n",
    "<h4>**4 print some message to user with that result</h4>"
   ]
  },
  {
   "cell_type": "code",
   "execution_count": 38,
   "metadata": {
    "cocalc": {
     "outputs": {
      "0": {
       "name": "input",
       "opts": {
        "password": false,
        "prompt": "input any number"
       },
       "output_type": "stream",
       "value": "5"
      }
     }
    },
    "collapsed": false
   },
   "outputs": [
    {
     "name": "stdout",
     "output_type": "stream",
     "text": "input any number 5"
    },
    {
     "name": "stdout",
     "output_type": "stream",
     "text": [
      "The number of 5 in this list is= 2\n"
     ]
    }
   ],
   "source": [
    "num=[1,2,2,2,4,4,4,4,4,5,5]\n",
    "usr=int(input(\"input any number\"))\n",
    "countt=num.count(usr)\n",
    "print(\"The number of\",usr,\"in this list is=\",countt)"
   ]
  },
  {
   "cell_type": "code",
   "execution_count": 0,
   "metadata": {
    "collapsed": false
   },
   "outputs": [
   ],
   "source": [
   ]
  },
  {
   "cell_type": "markdown",
   "metadata": {
    "collapsed": false
   },
   "source": [
    "<h3>Q no 2:   [\"www.zframez.com\", \"www.wikipedia.org\", \"www.asp.net\", \"www.abcd.in\"]\n",
    "<br/><br/><br/><br/><br/>\n",
    "Write a python program to print website suffixes (com , org , net ,in) from this list\n",
    "\n",
    "Hint : Use split() method to perform this task\n",
    "</h3>\n"
   ]
  },
  {
   "cell_type": "code",
   "execution_count": 76,
   "metadata": {
    "collapsed": false
   },
   "outputs": [
    {
     "name": "stdout",
     "output_type": "stream",
     "text": [
      "com\n",
      "org\n",
      "net\n",
      "in\n"
     ]
    }
   ],
   "source": [
    "x=[\"www.zframez.com\",\"www.wikipedia.org\",\"www.asp.net\",\"www.abcd.in\"]\n",
    "for j in x:\n",
    "    print(j.split(\".\")[-1])\n"
   ]
  },
  {
   "cell_type": "code",
   "execution_count": 0,
   "metadata": {
    "collapsed": false
   },
   "outputs": [
   ],
   "source": [
   ]
  },
  {
   "cell_type": "markdown",
   "metadata": {
    "collapsed": false
   },
   "source": [
    "<h3> Q no 3 : Write a program which can compute the factorial of a given numbers.</h3>\n",
    "<br/>\n",
    "<br/>\n",
    "<h4>**1 first take user input any number</h4>\n",
    "<h4>**2 calculate factorial of that input and then print the result to user</h4>"
   ]
  },
  {
   "cell_type": "code",
   "execution_count": 12,
   "metadata": {
    "cocalc": {
     "outputs": {
      "0": {
       "name": "input",
       "opts": {
        "password": false,
        "prompt": "Enter any number"
       },
       "output_type": "stream",
       "value": "5"
      }
     }
    },
    "collapsed": false
   },
   "outputs": [
    {
     "name": "stdout",
     "output_type": "stream",
     "text": "Enter any number 5"
    },
    {
     "name": "stdout",
     "output_type": "stream",
     "text": [
      "factorial of  5 is 120\n"
     ]
    }
   ],
   "source": [
    "a=int(input(\"Enter any number\"))\n",
    "fac=1\n",
    "for i in range(1,a+1) :\n",
    "  fac=fac*i\n",
    "print(\"factorial of \",a,\"is\",fac)"
   ]
  },
  {
   "cell_type": "code",
   "execution_count": 0,
   "metadata": {
    "collapsed": false
   },
   "outputs": [
   ],
   "source": [
   ]
  },
  {
   "cell_type": "code",
   "execution_count": 0,
   "metadata": {
    "collapsed": false
   },
   "outputs": [
   ],
   "source": [
   ]
  },
  {
   "cell_type": "code",
   "execution_count": 0,
   "metadata": {
    "collapsed": false
   },
   "outputs": [
   ],
   "source": [
   ]
  },
  {
   "cell_type": "markdown",
   "metadata": {
    "collapsed": false
   },
   "source": [
    "<h3>Q 4 (a) :  If you could invite anyone, living or deceased, to dinner, who\n",
    "would you invite? Make a list that includes at least three people you’d like to\n",
    "invite to dinner. Then use your list to print a message to each person, inviting\n",
    "them to dinner.</h3>"
   ]
  },
  {
   "cell_type": "code",
   "execution_count": 10,
   "metadata": {
    "collapsed": false
   },
   "outputs": [
    {
     "name": "stdout",
     "output_type": "stream",
     "text": [
      "wahab Riaz you are inviting in dinner\n",
      "Amir you are inviting in dinner\n",
      "Hasnain you are inviting in dinner\n"
     ]
    }
   ],
   "source": [
    "invite=[\"wahab Riaz\",\"Amir\",\"Hasnain\"]\n",
    "for i in invite:\n",
    "    print(i,\"you are inviting in dinner\")"
   ]
  },
  {
   "cell_type": "code",
   "execution_count": 0,
   "metadata": {
    "collapsed": false
   },
   "outputs": [
   ],
   "source": [
   ]
  },
  {
   "cell_type": "code",
   "execution_count": 0,
   "metadata": {
    "collapsed": false
   },
   "outputs": [
   ],
   "source": [
   ]
  },
  {
   "cell_type": "code",
   "execution_count": 0,
   "metadata": {
    "collapsed": false
   },
   "outputs": [
   ],
   "source": [
   ]
  },
  {
   "cell_type": "markdown",
   "metadata": {
    "collapsed": false
   },
   "source": [
    "<h3>Q 4 (b) : You just heard that one of your guests can’t make the\n",
    "dinner, so you need to send out a new set of invitations. You’ll have to think of\n",
    "someone else to invite.<br/></br><br/>\n",
    "•\t Start with your program from Q 4 (a). Add a print statement at the\n",
    "end of your program stating the name of the guest who can’t make it.<br/></br><br/>\n",
    "•\t Modify your list, replacing the name of the guest who can’t make it with\n",
    "the name of the new person you are inviting.<br/></br><br/>\n",
    "•\t Print a second set of invitation messages, one for each person who is still\n",
    "in your list.<br/></br><br/></h3>"
   ]
  },
  {
   "cell_type": "code",
   "execution_count": 11,
   "metadata": {
    "collapsed": false
   },
   "outputs": [
    {
     "name": "stdout",
     "output_type": "stream",
     "text": [
      "Hasnain is not comming dinner\n",
      "Hasnain please come on i have really excited to invite you\n"
     ]
    }
   ],
   "source": [
    "print(invite[2],\"is not comming dinner\")\n",
    "print(invite[2],\"please come on i have really excited to invite you\")"
   ]
  },
  {
   "cell_type": "code",
   "execution_count": 9,
   "metadata": {
    "collapsed": false
   },
   "outputs": [
    {
     "name": "stdout",
     "output_type": "stream",
     "text": [
      "abid is not invite\n",
      "sami is not invite\n",
      "salman is not invite\n"
     ]
    }
   ],
   "source": [
    "notinvite=[\"abid\",\"sami\",\"salman\"]\n",
    "for i in notinvite:\n",
    "    print(i,\"is not invite\")"
   ]
  },
  {
   "cell_type": "code",
   "execution_count": 28,
   "metadata": {
    "collapsed": false
   },
   "outputs": [
    {
     "name": "stdout",
     "output_type": "stream",
     "text": [
      "wahab Riaz you are inviting in dinner\n",
      "amir you are inviting in dinner\n",
      "hasnian you are inviting in dinner\n",
      "sami you are inviting in dinner\n",
      "salmn you are inviting in dinner\n",
      "abid you are inviting in dinner\n"
     ]
    }
   ],
   "source": [
    "#invite.remove(\"abid\")\n",
    "#invite\n",
    "#invite.clear()\n",
    "#invite\n",
    "invited=[\"wahab Riaz\",\"amir\",\"hasnian\",\"sami\",\"salmn\",\"abid\"]\n",
    "invited\n",
    "for i in invited:\n",
    "    print(i,\"you are inviting in dinner\")"
   ]
  },
  {
   "cell_type": "markdown",
   "metadata": {
    "collapsed": false
   },
   "source": [
    "<h3>Q 4 (c) : You just found a bigger dinner table, so now more space is\n",
    "available. Think of three more guests to invite to dinner.<br/></br><br/>\n",
    "•\t Start with your program from Q 4 (a) and (b) Add a print\n",
    "statement to the end of your program informing people that you found a\n",
    "bigger dinner table.<br/></br><br/>\n",
    "•\t Use insert() to add one new guest to the beginning of your list.<br/></br><br/>\n",
    "•\t Use insert() to add one new guest to the middle of your list.<br/></br><br/>\n",
    "•\t Use append() to add one new guest to the end of your list.<br/></br><br/>\n",
    "•\t Print a new set of invitation messages, one for each person in your list.<br/></br><br/></h3>"
   ]
  },
  {
   "cell_type": "code",
   "execution_count": 6,
   "metadata": {
    "collapsed": false
   },
   "outputs": [
    {
     "data": {
      "text/plain": [
       "['wahab riaz', 'amir', 'hasnan', 'sami', 'salman', 'abid']"
      ]
     },
     "execution_count": 6,
     "metadata": {
     },
     "output_type": "execute_result"
    }
   ],
   "source": [
    " #invited.clear()\n",
    " #invited\n",
    "invitd=[\"wahab riaz\",\"amir\",\"hasnan\",\"sami\",\"salman\",\"abid\"]\n",
    "invitd"
   ]
  },
  {
   "cell_type": "code",
   "execution_count": 7,
   "metadata": {
    "collapsed": false
   },
   "outputs": [
    {
     "name": "stdout",
     "output_type": "stream",
     "text": [
      "wahab riaz You are inviting bigger dinner table table\n",
      "amir You are inviting bigger dinner table table\n",
      "hasnan You are inviting bigger dinner table table\n",
      "sami You are inviting bigger dinner table table\n",
      "salman You are inviting bigger dinner table table\n",
      "abid You are inviting bigger dinner table table\n",
      "sarfarz You are inviting bigger dinner table table\n",
      "shaheen You are inviting bigger dinner table table\n",
      "hassan You are inviting bigger dinner table table\n",
      "afridi You are inviting bigger dinner table table\n"
     ]
    }
   ],
   "source": [
    "invitd+=\"sarfarz\",\"shaheen\",\"hassan\",\"afridi\"\n",
    "invitd\n",
    "for i in invitd:\n",
    "    print(i,\"You are inviting bigger dinner table table\")"
   ]
  },
  {
   "cell_type": "code",
   "execution_count": 8,
   "metadata": {
    "collapsed": false,
    "scrolled": true
   },
   "outputs": [
    {
     "name": "stdout",
     "output_type": "stream",
     "text": [
      "fakhar you are invited bigger dinner table\n",
      "wahab riaz you are invited bigger dinner table\n",
      "amir you are invited bigger dinner table\n",
      "hasnan you are invited bigger dinner table\n",
      "sami you are invited bigger dinner table\n",
      "salman you are invited bigger dinner table\n",
      "abid you are invited bigger dinner table\n",
      "sarfarz you are invited bigger dinner table\n",
      "shaheen you are invited bigger dinner table\n",
      "hassan you are invited bigger dinner table\n",
      "afridi you are invited bigger dinner table\n",
      "asif you are invited bigger dinner table\n"
     ]
    }
   ],
   "source": [
    "invitd.insert(0,\"fakhar\")\n",
    "invitd.append(\"asif\")\n",
    "invitd\n",
    "for i in invitd:\n",
    "    print(i,\"you are invited bigger dinner table\")\n",
    "\n",
    "\n"
   ]
  },
  {
   "cell_type": "markdown",
   "metadata": {
    "collapsed": false
   },
   "source": [
    "<h5> Q 5 : Here you have some data in variable below, your task is to make a list of specific word Surah then print the list and length of list</h5>\n"
   ]
  },
  {
   "cell_type": "code",
   "execution_count": 77,
   "metadata": {
    "collapsed": false
   },
   "outputs": [
    {
     "name": "stdout",
     "output_type": "stream",
     "text": [
      "length of list= 3\n"
     ]
    }
   ],
   "source": [
    "y=[\"wahab\",\"amir\",\"zafar\"]\n",
    "y\n",
    "x=len(y)\n",
    "print(\"length of list=\",x)"
   ]
  },
  {
   "cell_type": "code",
   "execution_count": 0,
   "metadata": {
    "collapsed": false
   },
   "outputs": [
   ],
   "source": [
   ]
  },
  {
   "cell_type": "markdown",
   "metadata": {
    "collapsed": false
   },
   "source": [
    " <h3>Q no 6 : You have some name of cities in list named cities, Your task is to check whether Karachi is present in this list or not, if present print the index where the value Karachi is present</h3>"
   ]
  },
  {
   "cell_type": "code",
   "execution_count": 24,
   "metadata": {
    "collapsed": false
   },
   "outputs": [
    {
     "name": "stdout",
     "output_type": "stream",
     "text": [
      "Yes karachi exist in list  ['hyderabad', 'lahore', 'karachi', 'islamabad']\n",
      "index number is 2\n"
     ]
    }
   ],
   "source": [
    "cities=[\"hyderabad\",\"lahore\",\"karachi\",\"islamabad\"]\n",
    "if \"karachi\" in cities :\n",
    "    print(\"Yes karachi exist in list \",cities)\n",
    "indx=cities.index(\"karachi\")\n",
    "print(\"index number is\",indx)"
   ]
  },
  {
   "cell_type": "code",
   "execution_count": 0,
   "metadata": {
    "collapsed": false
   },
   "outputs": [
   ],
   "source": [
   ]
  },
  {
   "cell_type": "code",
   "execution_count": 0,
   "metadata": {
    "collapsed": false
   },
   "outputs": [
   ],
   "source": [
   ]
  }
 ],
 "metadata": {
  "kernelspec": {
   "display_name": "Python 3 (Ubuntu Linux)",
   "language": "python",
   "metadata": {
    "cocalc": {
     "description": "Python 3 programming language",
     "priority": 100,
     "url": "https://www.python.org/"
    }
   },
   "name": "python3"
  },
  "language_info": {
   "codemirror_mode": {
    "name": "ipython",
    "version": 3
   },
   "file_extension": ".py",
   "mimetype": "text/x-python",
   "name": "python",
   "nbconvert_exporter": "python",
   "pygments_lexer": "ipython3",
   "version": "3.6.7"
  }
 },
 "nbformat": 4,
 "nbformat_minor": 0
}